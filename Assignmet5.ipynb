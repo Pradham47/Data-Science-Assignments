{
 "cells": [
  {
   "cell_type": "code",
   "execution_count": 1,
   "id": "0f561f76",
   "metadata": {},
   "outputs": [],
   "source": [
    "#Question 1\n",
    "class vehicle:\n",
    "    def __init__(self, name_of_vehicle,max_speed,average_of_vehicle):\n",
    "        self.name_of_vehicle = name_of_vehicle\n",
    "        self.max_speed = max_speed\n",
    "        self.average_of_vehicle = average_of_vehicle\n"
   ]
  },
  {
   "cell_type": "code",
   "execution_count": 4,
   "id": "a14f2e6d",
   "metadata": {},
   "outputs": [],
   "source": [
    "#Question 2\n",
    "class car(vehicle):\n",
    "    def seating_capacity(self,capacity):\n",
    "        return self.name_of_vehicle, capacity\n",
    "        "
   ]
  },
  {
   "cell_type": "code",
   "execution_count": 7,
   "id": "b4bc7d32",
   "metadata": {},
   "outputs": [
    {
     "data": {
      "text/plain": [
       "['Mahindra', 6]"
      ]
     },
     "execution_count": 7,
     "metadata": {},
     "output_type": "execute_result"
    }
   ],
   "source": [
    "v = car(\"Mahindra\", 500, 250)\n",
    "lst = list(v.seating_capacity(6))\n",
    "lst"
   ]
  },
  {
   "cell_type": "code",
   "execution_count": 11,
   "id": "fbb3a66f",
   "metadata": {},
   "outputs": [
    {
     "name": "stdout",
     "output_type": "stream",
     "text": [
      "This is method from par2\n"
     ]
    }
   ],
   "source": [
    "#Question 3\n",
    "'''Multiple inheritance is said to be achieved when a class inherites properties from 2 classes simultaneously'''\n",
    "class parent1:\n",
    "    def parent1met(self):\n",
    "        print(\"This is method from par1\")\n",
    "class parent2:\n",
    "    def parent2met(self):\n",
    "        print(\"This is method from par2\")\n",
    "class child(parent1, parent2):\n",
    "    pass\n",
    "c = child()\n",
    "c.parent2met()\n"
   ]
  },
  {
   "cell_type": "code",
   "execution_count": 12,
   "id": "d4ce047f",
   "metadata": {},
   "outputs": [
    {
     "name": "stdout",
     "output_type": "stream",
     "text": [
      "This is method from par1\n"
     ]
    }
   ],
   "source": [
    "c.parent1met()"
   ]
  },
  {
   "cell_type": "code",
   "execution_count": 21,
   "id": "8666117e",
   "metadata": {},
   "outputs": [
    {
     "data": {
      "text/plain": [
       "['Aakash', 10, 8]"
      ]
     },
     "execution_count": 21,
     "metadata": {},
     "output_type": "execute_result"
    }
   ],
   "source": [
    "#Question 4\n",
    "class test:\n",
    "    def __init__(self, name, std, grade):\n",
    "        self.__name = name\n",
    "        self.__std = std\n",
    "        self.__grade = grade\n",
    "    def get_details(self):\n",
    "        return self.__name, self.__std, self.__grade\n",
    "    def set_details(self, change):\n",
    "        self.__name = change\n",
    "t = test(\"Pradham\",10,8)\n",
    "lst = list(t.get_details())\n",
    "t.set_details(\"Aakash\")\n",
    "lst = list(t.get_details())\n",
    "lst"
   ]
  },
  {
   "cell_type": "code",
   "execution_count": 22,
   "id": "29158053",
   "metadata": {},
   "outputs": [
    {
     "name": "stdout",
     "output_type": "stream",
     "text": [
      "Dog barks\n"
     ]
    }
   ],
   "source": [
    "class Animal:\n",
    "    def speak(self):\n",
    "        print(\"Animal speaks\")\n",
    "\n",
    "class Dog(Animal):\n",
    "    def speak(self):\n",
    "        print(\"Dog barks\")\n",
    "\n",
    "class Cat(Animal):\n",
    "    def speak(self):\n",
    "        print(\"Cat meows\")\n",
    "\n",
    "dog = Dog()\n",
    "dog.speak()  "
   ]
  },
  {
   "cell_type": "code",
   "execution_count": 23,
   "id": "bc4219f0",
   "metadata": {},
   "outputs": [
    {
     "name": "stdout",
     "output_type": "stream",
     "text": [
      "Cat meows\n"
     ]
    }
   ],
   "source": [
    "cat = Cat()\n",
    "cat.speak()  \n"
   ]
  },
  {
   "cell_type": "code",
   "execution_count": null,
   "id": "60f141b9",
   "metadata": {},
   "outputs": [],
   "source": []
  }
 ],
 "metadata": {
  "kernelspec": {
   "display_name": "Python 3 (ipykernel)",
   "language": "python",
   "name": "python3"
  },
  "language_info": {
   "codemirror_mode": {
    "name": "ipython",
    "version": 3
   },
   "file_extension": ".py",
   "mimetype": "text/x-python",
   "name": "python",
   "nbconvert_exporter": "python",
   "pygments_lexer": "ipython3",
   "version": "3.11.3"
  }
 },
 "nbformat": 4,
 "nbformat_minor": 5
}
