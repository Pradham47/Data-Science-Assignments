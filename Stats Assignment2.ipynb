{
 "cells": [
  {
   "cell_type": "code",
   "execution_count": 2,
   "id": "4c038acd",
   "metadata": {},
   "outputs": [
    {
     "data": {
      "text/plain": [
       "'Mean, median, mode are three measures of central tendency'"
      ]
     },
     "execution_count": 2,
     "metadata": {},
     "output_type": "execute_result"
    }
   ],
   "source": [
    "#Question 1\n",
    "'''Mean, median, mode are three measures of central tendency'''"
   ]
  },
  {
   "cell_type": "code",
   "execution_count": 4,
   "id": "34977fc2",
   "metadata": {},
   "outputs": [
    {
     "data": {
      "text/plain": [
       "'Mean - The average of all the values\\nMedian - The middle most values of the given dataset\\nMode - The most repeating value'"
      ]
     },
     "execution_count": 4,
     "metadata": {},
     "output_type": "execute_result"
    }
   ],
   "source": [
    "#Question 2\n",
    "'''Mean - The average of all the values\n",
    "Median - The middle most values of the given dataset\n",
    "Mode - The most repeating value'''"
   ]
  },
  {
   "cell_type": "code",
   "execution_count": 10,
   "id": "7d04433f",
   "metadata": {},
   "outputs": [
    {
     "data": {
      "text/plain": [
       "177.01875"
      ]
     },
     "execution_count": 10,
     "metadata": {},
     "output_type": "execute_result"
    }
   ],
   "source": [
    "#Question 3\n",
    "import numpy as np \n",
    "from scipy import stats\n",
    "lst = [178,177,176,177,178.2,178,175,179,180,175,178.9,176.2,177,172.5,178,176.5]\n",
    "np.mean(lst)"
   ]
  },
  {
   "cell_type": "code",
   "execution_count": 7,
   "id": "6c116854",
   "metadata": {},
   "outputs": [
    {
     "data": {
      "text/plain": [
       "177.0"
      ]
     },
     "execution_count": 7,
     "metadata": {},
     "output_type": "execute_result"
    }
   ],
   "source": [
    "np.median(lst)"
   ]
  },
  {
   "cell_type": "code",
   "execution_count": 11,
   "id": "1f6d0f29",
   "metadata": {},
   "outputs": [
    {
     "data": {
      "text/plain": [
       "ModeResult(mode=177.0, count=3)"
      ]
     },
     "execution_count": 11,
     "metadata": {},
     "output_type": "execute_result"
    }
   ],
   "source": [
    "stats.mode(lst)"
   ]
  },
  {
   "cell_type": "code",
   "execution_count": 12,
   "id": "3b76757e",
   "metadata": {},
   "outputs": [
    {
     "data": {
      "text/plain": [
       "'Standard deviation is the measure of how much the data is spread around the mean, variance is the square of the SD, range is the maximum and minimum values in which the given dataset lies'"
      ]
     },
     "execution_count": 12,
     "metadata": {},
     "output_type": "execute_result"
    }
   ],
   "source": [
    "#Question 5\n",
    "'''Standard deviation is the measure of how much the data is spread around the mean, variance is the square of the SD, range is the maximum and minimum values in which the given dataset lies'''"
   ]
  },
  {
   "cell_type": "code",
   "execution_count": 13,
   "id": "94625bac",
   "metadata": {},
   "outputs": [
    {
     "data": {
      "text/plain": [
       "1.7885814036548633"
      ]
     },
     "execution_count": 13,
     "metadata": {},
     "output_type": "execute_result"
    }
   ],
   "source": [
    "#Question 4\n",
    "lst = [178,177,176,177,178.2,178,175,179,180,175,178.9,176.2,177,172.5,178,176.5]\n",
    "np.std(lst)"
   ]
  },
  {
   "cell_type": "code",
   "execution_count": 14,
   "id": "9eafb90b",
   "metadata": {},
   "outputs": [
    {
     "data": {
      "text/plain": [
       "'venn diagram is the representation of the set and venn diagram makes it easier for us to interpret the operations on set'"
      ]
     },
     "execution_count": 14,
     "metadata": {},
     "output_type": "execute_result"
    }
   ],
   "source": [
    "#Question 6\n",
    "'''venn diagram is the representation of the set and venn diagram makes it easier for us to interpret the operations on set'''"
   ]
  },
  {
   "cell_type": "code",
   "execution_count": 15,
   "id": "10f211b8",
   "metadata": {},
   "outputs": [
    {
     "data": {
      "text/plain": [
       "{0, 2, 3, 4, 5, 6, 7, 8, 10}"
      ]
     },
     "execution_count": 15,
     "metadata": {},
     "output_type": "execute_result"
    }
   ],
   "source": [
    "#Question 7\n",
    "s1 = {2,3,4,5,6,7}\n",
    "s2 = {0,2,6,8,10}\n",
    "s1.union(s2)"
   ]
  },
  {
   "cell_type": "code",
   "execution_count": 16,
   "id": "2cba2f9c",
   "metadata": {},
   "outputs": [
    {
     "data": {
      "text/plain": [
       "{2, 6}"
      ]
     },
     "execution_count": 16,
     "metadata": {},
     "output_type": "execute_result"
    }
   ],
   "source": [
    "s1.intersection(s2)"
   ]
  },
  {
   "cell_type": "code",
   "execution_count": 17,
   "id": "8f9e968d",
   "metadata": {},
   "outputs": [
    {
     "data": {
      "text/plain": [
       "'Skewness in data is representation of the region of concentration of data points'"
      ]
     },
     "execution_count": 17,
     "metadata": {},
     "output_type": "execute_result"
    }
   ],
   "source": [
    "#Question 8\n",
    "'''Skewness in data is representation of the region of concentration of data points'''"
   ]
  },
  {
   "cell_type": "code",
   "execution_count": 18,
   "id": "37da7bac",
   "metadata": {},
   "outputs": [
    {
     "data": {
      "text/plain": [
       "'If the data is right skewed mean>median'"
      ]
     },
     "execution_count": 18,
     "metadata": {},
     "output_type": "execute_result"
    }
   ],
   "source": [
    "#Question 9\n",
    "'''If the data is right skewed mean>median'''"
   ]
  },
  {
   "cell_type": "code",
   "execution_count": 19,
   "id": "d58709fc",
   "metadata": {},
   "outputs": [
    {
     "data": {
      "text/plain": [
       "'Covariance is the relation between two variables, correlation is the measure of how strongly tow variables are related'"
      ]
     },
     "execution_count": 19,
     "metadata": {},
     "output_type": "execute_result"
    }
   ],
   "source": [
    "#Question 10\n",
    "'''Covariance is the relation between two variables, correlation is the measure of how strongly tow variables are related'''"
   ]
  },
  {
   "cell_type": "code",
   "execution_count": 20,
   "id": "712dcd12",
   "metadata": {},
   "outputs": [
    {
     "data": {
      "text/plain": [
       "177.01875"
      ]
     },
     "execution_count": 20,
     "metadata": {},
     "output_type": "execute_result"
    }
   ],
   "source": [
    "#Question 11\n",
    "'''The value of mean for sample of data is sum of all the values/ the number of values'''\n",
    "lst =[178,177,176,177,178.2,178,175,179,180,175,178.9,176.2,177,172.5,178,176.5]\n",
    "np.mean(lst)"
   ]
  },
  {
   "cell_type": "code",
   "execution_count": 21,
   "id": "da9e17b1",
   "metadata": {},
   "outputs": [
    {
     "data": {
      "text/plain": [
       "'For a normal distribution, mean = median = mode'"
      ]
     },
     "execution_count": 21,
     "metadata": {},
     "output_type": "execute_result"
    }
   ],
   "source": [
    "#Question 12\n",
    "'''For a normal distribution, mean = median = mode'''"
   ]
  },
  {
   "cell_type": "code",
   "execution_count": 22,
   "id": "1519a239",
   "metadata": {},
   "outputs": [
    {
     "data": {
      "text/plain": [
       "'Covariance is the relation between two variables, correlation is the measure of how strongly tow variables are related'"
      ]
     },
     "execution_count": 22,
     "metadata": {},
     "output_type": "execute_result"
    }
   ],
   "source": [
    "#Question 13\n",
    "'''Covariance is the relation between two variables, correlation is the measure of how strongly tow variables are related'''\n"
   ]
  },
  {
   "cell_type": "code",
   "execution_count": 23,
   "id": "da8c3231",
   "metadata": {},
   "outputs": [
    {
     "data": {
      "text/plain": [
       "'outlier is simply the values that does that does not belong to the dataset, it affects mean but does not affect mode and median a lot'"
      ]
     },
     "execution_count": 23,
     "metadata": {},
     "output_type": "execute_result"
    }
   ],
   "source": [
    "#Question 14\n",
    "'''outlier is simply the values that does that does not belong to the dataset, it affects mean but does not affect mode and median a lot'''"
   ]
  },
  {
   "cell_type": "code",
   "execution_count": null,
   "id": "bb1f6b38",
   "metadata": {},
   "outputs": [],
   "source": []
  }
 ],
 "metadata": {
  "kernelspec": {
   "display_name": "Python 3 (ipykernel)",
   "language": "python",
   "name": "python3"
  },
  "language_info": {
   "codemirror_mode": {
    "name": "ipython",
    "version": 3
   },
   "file_extension": ".py",
   "mimetype": "text/x-python",
   "name": "python",
   "nbconvert_exporter": "python",
   "pygments_lexer": "ipython3",
   "version": "3.11.3"
  }
 },
 "nbformat": 4,
 "nbformat_minor": 5
}
