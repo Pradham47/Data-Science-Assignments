{
 "cells": [
  {
   "cell_type": "code",
   "execution_count": 6,
   "id": "cec54bd5",
   "metadata": {},
   "outputs": [
    {
     "data": {
      "text/plain": [
       "'commenting can be done in two ways : 1.using# 2.To use triple quotes. for single line comment we use # for multi line comment we use triple quotes'"
      ]
     },
     "execution_count": 6,
     "metadata": {},
     "output_type": "execute_result"
    }
   ],
   "source": [
    "#Question 1\n",
    "'''commenting can be done in two ways : 1.using# 2.To use triple quotes. for single line comment we use # for multi line comment we use triple quotes'''"
   ]
  },
  {
   "cell_type": "code",
   "execution_count": 7,
   "id": "81aa3b76",
   "metadata": {},
   "outputs": [
    {
     "data": {
      "text/plain": [
       "'variable are data types assigned to some name, so that they can be used in other parts of code'"
      ]
     },
     "execution_count": 7,
     "metadata": {},
     "output_type": "execute_result"
    }
   ],
   "source": [
    "#Question 2\n",
    "'''variable are data types assigned to some name, so that they can be used in other parts of code'''"
   ]
  },
  {
   "cell_type": "code",
   "execution_count": 10,
   "id": "ba20c2e9",
   "metadata": {},
   "outputs": [
    {
     "data": {
      "text/plain": [
       "'using the name of the type of type that we want to convert , we can convert one data type to another type in python'"
      ]
     },
     "execution_count": 10,
     "metadata": {},
     "output_type": "execute_result"
    }
   ],
   "source": [
    "#Question 3\n",
    "'''using the name of the type of type that we want to convert , we can convert one data type to another type in python'''"
   ]
  },
  {
   "cell_type": "code",
   "execution_count": 13,
   "id": "9ccf12ea",
   "metadata": {},
   "outputs": [
    {
     "data": {
      "text/plain": [
       "[2, 3]"
      ]
     },
     "execution_count": 13,
     "metadata": {},
     "output_type": "execute_result"
    }
   ],
   "source": [
    "#Question 5\n",
    "my_list = [1, 2, 3, 4, 5]\n",
    "list2 = my_list[1:3]\n",
    "list2\n"
   ]
  },
  {
   "cell_type": "code",
   "execution_count": 18,
   "id": "ea15c013",
   "metadata": {},
   "outputs": [
    {
     "data": {
      "text/plain": [
       "2.0"
      ]
     },
     "execution_count": 18,
     "metadata": {},
     "output_type": "execute_result"
    }
   ],
   "source": [
    "#Question 6 \n",
    "''' complex number is number which has imaginary parts in it.'''\n",
    "a = 2 + 4j\n",
    "a.imag\n",
    "a.real"
   ]
  },
  {
   "cell_type": "code",
   "execution_count": 21,
   "id": "e320bac4",
   "metadata": {},
   "outputs": [
    {
     "data": {
      "text/plain": [
       "25"
      ]
     },
     "execution_count": 21,
     "metadata": {},
     "output_type": "execute_result"
    }
   ],
   "source": [
    "#Question 7\n",
    "d1 = {\"age\":25}\n",
    "d1[\"age\"]"
   ]
  },
  {
   "cell_type": "code",
   "execution_count": 23,
   "id": "bcf62193",
   "metadata": {},
   "outputs": [
    {
     "data": {
      "text/plain": [
       "float"
      ]
     },
     "execution_count": 23,
     "metadata": {},
     "output_type": "execute_result"
    }
   ],
   "source": [
    "#Question 8\n",
    "price = 9.99\n",
    "type(price)"
   ]
  },
  {
   "cell_type": "code",
   "execution_count": 26,
   "id": "3ce7fdc1",
   "metadata": {},
   "outputs": [
    {
     "name": "stdout",
     "output_type": "stream",
     "text": [
      "Pradham\n"
     ]
    }
   ],
   "source": [
    "#Question 9\n",
    "name = \"Pradham\"\n",
    "print(name)"
   ]
  },
  {
   "cell_type": "code",
   "execution_count": 30,
   "id": "23b78eba",
   "metadata": {},
   "outputs": [
    {
     "data": {
      "text/plain": [
       "'World!'"
      ]
     },
     "execution_count": 30,
     "metadata": {},
     "output_type": "execute_result"
    }
   ],
   "source": [
    "#Question 10\n",
    "str = \"Hello World!\"\n",
    "substr = str[6:]\n",
    "substr"
   ]
  },
  {
   "cell_type": "code",
   "execution_count": 31,
   "id": "8e9ff028",
   "metadata": {},
   "outputs": [
    {
     "data": {
      "text/plain": [
       "True"
      ]
     },
     "execution_count": 31,
     "metadata": {},
     "output_type": "execute_result"
    }
   ],
   "source": [
    "#Question 11\n",
    "is_student = True\n",
    "is_student"
   ]
  },
  {
   "cell_type": "code",
   "execution_count": null,
   "id": "e9c47fdf",
   "metadata": {},
   "outputs": [],
   "source": []
  }
 ],
 "metadata": {
  "kernelspec": {
   "display_name": "Python 3 (ipykernel)",
   "language": "python",
   "name": "python3"
  },
  "language_info": {
   "codemirror_mode": {
    "name": "ipython",
    "version": 3
   },
   "file_extension": ".py",
   "mimetype": "text/x-python",
   "name": "python",
   "nbconvert_exporter": "python",
   "pygments_lexer": "ipython3",
   "version": "3.11.3"
  }
 },
 "nbformat": 4,
 "nbformat_minor": 5
}
