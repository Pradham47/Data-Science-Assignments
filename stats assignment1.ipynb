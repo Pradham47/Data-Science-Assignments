{
 "cells": [
  {
   "cell_type": "code",
   "execution_count": 1,
   "id": "c651f8de",
   "metadata": {},
   "outputs": [
    {
     "data": {
      "text/plain": [
       "'Statistics is collecting, organizing, and analyzing the data'"
      ]
     },
     "execution_count": 1,
     "metadata": {},
     "output_type": "execute_result"
    }
   ],
   "source": [
    "#Question 1\n",
    "'''Statistics is collecting, organizing, and analyzing the data'''"
   ]
  },
  {
   "cell_type": "code",
   "execution_count": 3,
   "id": "6863c138",
   "metadata": {},
   "outputs": [
    {
     "data": {
      "text/plain": [
       "'There are two types of statistics 1. Descriptive stats, 2. Inferential stats\\nDescriptive stats is used for the collection and organization of data\\nInferential stats is used for drawing some conclusion from the data'"
      ]
     },
     "execution_count": 3,
     "metadata": {},
     "output_type": "execute_result"
    }
   ],
   "source": [
    "#Question 2\n",
    "'''There are two types of statistics 1. Descriptive stats, 2. Inferential stats\n",
    "Descriptive stats is used for the collection and organization of data\n",
    "Inferential stats is used for drawing some conclusion from the data'''"
   ]
  },
  {
   "cell_type": "code",
   "execution_count": 5,
   "id": "06538fe7",
   "metadata": {},
   "outputs": [
    {
     "data": {
      "text/plain": [
       "'There are 2 types of data 1.Quantitative 2.Qualitative\\nQuantitave is that type of data which can be substracted and we can also which among them is greater and which among them is smaller, where as Qulatative data is a kind of categorical data where you cant say which is big and which is small neither can you subtract one from another'"
      ]
     },
     "execution_count": 5,
     "metadata": {},
     "output_type": "execute_result"
    }
   ],
   "source": [
    "#Question 3\n",
    "'''There are 2 types of data 1.Quantitative 2.Qualitative\n",
    "Quantitave is that type of data which can be substracted and we can also which among them is greater and which among them is smaller, where as Qulatative data is a kind of categorical data where you cant say which is big and which is small neither can you subtract one from another'''"
   ]
  },
  {
   "cell_type": "code",
   "execution_count": 7,
   "id": "88daf0d7",
   "metadata": {},
   "outputs": [
    {
     "data": {
      "text/plain": [
       "'1.Qualitative\\n2.Qualitative\\n3.Quantitative\\n4.Quantitative'"
      ]
     },
     "execution_count": 7,
     "metadata": {},
     "output_type": "execute_result"
    }
   ],
   "source": [
    "#Question 4\n",
    "'''1.Qualitative\n",
    "2.Qualitative\n",
    "3.Quantitative\n",
    "4.Quantitative'''"
   ]
  },
  {
   "cell_type": "code",
   "execution_count": 9,
   "id": "b4a365d9",
   "metadata": {},
   "outputs": [
    {
     "data": {
      "text/plain": [
       "'1.Nominal scale data, eg: colors of flower with their quantity\\n2.Ordinal scale data eg: Ranking matters here, Marks of students\\n3.interval scale data eg: Ranking matters but we cannot make it ratio and also does not start with 0 eg: temparature\\n4.ratio scale data eg: ranking matter and also starts with zero eg: car speed'"
      ]
     },
     "execution_count": 9,
     "metadata": {},
     "output_type": "execute_result"
    }
   ],
   "source": [
    "#Question 5\n",
    "'''1.Nominal scale data, eg: colors of flower with their quantity\n",
    "2.Ordinal scale data eg: Ranking matters here, Marks of students\n",
    "3.interval scale data eg: Ranking matters but we cannot make it ratio and also does not start with 0 eg: temparature\n",
    "4.ratio scale data eg: ranking matter and also starts with zero eg: car speed'''"
   ]
  },
  {
   "cell_type": "code",
   "execution_count": 11,
   "id": "5946a181",
   "metadata": {},
   "outputs": [
    {
     "data": {
      "text/plain": [
       "'it is important to understand what kind of data we are dealing with in order to analyze it better which in turn gives us the oppurtunity for better decision making'"
      ]
     },
     "execution_count": 11,
     "metadata": {},
     "output_type": "execute_result"
    }
   ],
   "source": [
    "#Question 6\n",
    "'''it is important to understand what kind of data we are dealing with in order to analyze it better which in turn gives us the oppurtunity for better decision making'''"
   ]
  },
  {
   "cell_type": "code",
   "execution_count": 12,
   "id": "a33fa2e1",
   "metadata": {},
   "outputs": [
    {
     "data": {
      "text/plain": [
       "'In nominal type data ranking does not matter where as in ordinal type of data order matters'"
      ]
     },
     "execution_count": 12,
     "metadata": {},
     "output_type": "execute_result"
    }
   ],
   "source": [
    "#Question 7\n",
    "'''In nominal type data ranking does not matter where as in ordinal type of data order matters'''"
   ]
  },
  {
   "cell_type": "code",
   "execution_count": 14,
   "id": "3f1ec527",
   "metadata": {},
   "outputs": [
    {
     "data": {
      "text/plain": [
       "'Histogram can be used by taking ranges over the x axis and frequency over y axis'"
      ]
     },
     "execution_count": 14,
     "metadata": {},
     "output_type": "execute_result"
    }
   ],
   "source": [
    "#Question 8\n",
    "'''Histogram can be used by taking ranges over the x axis and frequency over y axis'''"
   ]
  },
  {
   "cell_type": "code",
   "execution_count": 15,
   "id": "7854a0e4",
   "metadata": {},
   "outputs": [
    {
     "data": {
      "text/plain": [
       "'There are two types of statistics 1. Descriptive stats, 2. Inferential stats\\nDescriptive stats is used for the collection and organization of data\\nInferential stats is used for drawing some conclusion from the data'"
      ]
     },
     "execution_count": 15,
     "metadata": {},
     "output_type": "execute_result"
    }
   ],
   "source": [
    "#Question 9\n",
    "'''There are two types of statistics 1. Descriptive stats, 2. Inferential stats\n",
    "Descriptive stats is used for the collection and organization of data\n",
    "Inferential stats is used for drawing some conclusion from the data'''"
   ]
  },
  {
   "cell_type": "code",
   "execution_count": 16,
   "id": "8f91ccb7",
   "metadata": {},
   "outputs": [
    {
     "data": {
      "text/plain": [
       "'mean, median, mode are measures of central tendency where as standard deviation is an example of variable stats'"
      ]
     },
     "execution_count": 16,
     "metadata": {},
     "output_type": "execute_result"
    }
   ],
   "source": [
    "#Question 10\n",
    "'''mean, median, mode are measures of central tendency where as standard deviation is an example of variable stats'''"
   ]
  }
 ],
 "metadata": {
  "kernelspec": {
   "display_name": "Python 3 (ipykernel)",
   "language": "python",
   "name": "python3"
  },
  "language_info": {
   "codemirror_mode": {
    "name": "ipython",
    "version": 3
   },
   "file_extension": ".py",
   "mimetype": "text/x-python",
   "name": "python",
   "nbconvert_exporter": "python",
   "pygments_lexer": "ipython3",
   "version": "3.11.3"
  }
 },
 "nbformat": 4,
 "nbformat_minor": 5
}
