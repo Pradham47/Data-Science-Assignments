{
 "cells": [
  {
   "cell_type": "code",
   "execution_count": 5,
   "id": "ad2fafcd",
   "metadata": {},
   "outputs": [
    {
     "name": "stdout",
     "output_type": "stream",
     "text": [
      "This is student class\n"
     ]
    }
   ],
   "source": [
    "#Question 1\n",
    "'''class is just like a blue print defining something where as an object is ans instance of a class\n",
    "    Here student is class where as rohan is an object'''\n",
    "class student: \n",
    "    def info(self):\n",
    "        print(\"This is student class\")\n",
    "rohan = student()\n",
    "rohan.info()"
   ]
  },
  {
   "cell_type": "code",
   "execution_count": 7,
   "id": "cf2b5c1f",
   "metadata": {},
   "outputs": [
    {
     "data": {
      "text/plain": [
       "' The four pillars of oops are 1.Encapsulation 2.Polymorphism 3.Inheritance 4.Abstraction'"
      ]
     },
     "execution_count": 7,
     "metadata": {},
     "output_type": "execute_result"
    }
   ],
   "source": [
    "#Question 2\n",
    "''' The four pillars of oops are 1.Encapsulation 2.Polymorphism 3.Inheritance 4.Abstraction'''"
   ]
  },
  {
   "cell_type": "code",
   "execution_count": 10,
   "id": "6793200b",
   "metadata": {},
   "outputs": [
    {
     "data": {
      "text/plain": [
       "10"
      ]
     },
     "execution_count": 10,
     "metadata": {},
     "output_type": "execute_result"
    }
   ],
   "source": [
    "#Question 3\n",
    "'''__init__ is constuctor and it is used to intialise a class'''\n",
    "class student:\n",
    "    def __init__(self, name, sec, grade):\n",
    "        self.name = name\n",
    "        self.sec = sec\n",
    "        self.grade = grade\n",
    "rohan = student(\"rohan\",\"A\",10)\n",
    "rohan.grade"
   ]
  },
  {
   "cell_type": "code",
   "execution_count": 11,
   "id": "6558b38e",
   "metadata": {},
   "outputs": [
    {
     "data": {
      "text/plain": [
       "'self is nothing but reference to the object that is currently being operated'"
      ]
     },
     "execution_count": 11,
     "metadata": {},
     "output_type": "execute_result"
    }
   ],
   "source": [
    "#Question 4\n",
    "'''self is nothing but reference to the object that is currently being operated'''"
   ]
  },
  {
   "cell_type": "code",
   "execution_count": 17,
   "id": "d99f39ee",
   "metadata": {},
   "outputs": [
    {
     "name": "stdout",
     "output_type": "stream",
     "text": [
      "This is class 1 method\n"
     ]
    }
   ],
   "source": [
    "#Question 5\n",
    "'''Inheritance is nothing but getting properties of parent to child class, there are two kinds of inheritance - Multiple Inheritance, Multilevel inheritance'''\n",
    "#Multilevel inheritance\n",
    "class class1:\n",
    "    def class1met():\n",
    "        print(\"This is class 1 method\")\n",
    "class class2(class1):\n",
    "    def class2met():\n",
    "        print(\"This is class2 method\")\n",
    "class class3(class2):\n",
    "    def class3met():\n",
    "        print(\"This is class3 method\")\n",
    "class3.class1met()"
   ]
  },
  {
   "cell_type": "code",
   "execution_count": 19,
   "id": "b3fd12c5",
   "metadata": {},
   "outputs": [
    {
     "name": "stdout",
     "output_type": "stream",
     "text": [
      "This is class2 method\n"
     ]
    }
   ],
   "source": [
    "#Multiple Inheritance\n",
    "'''when a child class gets attributes from 2 different parent classes then it is called as multiple inheritance'''\n",
    "class class1:\n",
    "    def class1met():\n",
    "        print(\"This is class 1 method\")\n",
    "class class2():\n",
    "    def class2met():\n",
    "        print(\"This is class2 method\")\n",
    "class class3(class1,class2):\n",
    "    def class3met():\n",
    "        print(\"This is class3 method\")\n",
    "class3.class2met()"
   ]
  },
  {
   "cell_type": "code",
   "execution_count": 20,
   "id": "a7458fe4",
   "metadata": {},
   "outputs": [
    {
     "name": "stdout",
     "output_type": "stream",
     "text": [
      "This is class 1 method\n"
     ]
    }
   ],
   "source": [
    "class3.class1met()"
   ]
  },
  {
   "cell_type": "code",
   "execution_count": null,
   "id": "8a4803b8",
   "metadata": {},
   "outputs": [],
   "source": []
  }
 ],
 "metadata": {
  "kernelspec": {
   "display_name": "Python 3 (ipykernel)",
   "language": "python",
   "name": "python3"
  },
  "language_info": {
   "codemirror_mode": {
    "name": "ipython",
    "version": 3
   },
   "file_extension": ".py",
   "mimetype": "text/x-python",
   "name": "python",
   "nbconvert_exporter": "python",
   "pygments_lexer": "ipython3",
   "version": "3.11.3"
  }
 },
 "nbformat": 4,
 "nbformat_minor": 5
}
