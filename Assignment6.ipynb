{
 "cells": [
  {
   "cell_type": "code",
   "execution_count": 1,
   "id": "6354d28f",
   "metadata": {},
   "outputs": [
    {
     "data": {
      "text/plain": [
       "'Exception in python is a kind of Error where the code is syntactically correct but some kind of mistake persists, where as Syntax errors occur when there is some kind of mistake in the syntax of the code '"
      ]
     },
     "execution_count": 1,
     "metadata": {},
     "output_type": "execute_result"
    }
   ],
   "source": [
    "#Question 1\n",
    "'''Exception in python is a kind of Error where the code is syntactically correct but some kind of mistake persists, where as Syntax errors occur when there is some kind of mistake in the syntax of the code '''"
   ]
  },
  {
   "cell_type": "code",
   "execution_count": 2,
   "id": "98027ed0",
   "metadata": {},
   "outputs": [
    {
     "ename": "ZeroDivisionError",
     "evalue": "division by zero",
     "output_type": "error",
     "traceback": [
      "\u001b[1;31m---------------------------------------------------------------------------\u001b[0m",
      "\u001b[1;31mZeroDivisionError\u001b[0m                         Traceback (most recent call last)",
      "Cell \u001b[1;32mIn[2], line 3\u001b[0m\n\u001b[0;32m      1\u001b[0m \u001b[38;5;66;03m#Question 2\u001b[39;00m\n\u001b[0;32m      2\u001b[0m \u001b[38;5;124;03m'''When Exception is not handled, the code crashes and the program no more executes'''\u001b[39;00m\n\u001b[1;32m----> 3\u001b[0m a \u001b[38;5;241m=\u001b[39m \u001b[38;5;241;43m10\u001b[39;49m\u001b[38;5;241;43m/\u001b[39;49m\u001b[38;5;241;43m0\u001b[39;49m\n\u001b[0;32m      4\u001b[0m \u001b[38;5;28mprint\u001b[39m(a)\n",
      "\u001b[1;31mZeroDivisionError\u001b[0m: division by zero"
     ]
    }
   ],
   "source": [
    "#Question 2\n",
    "'''When Exception is not handled, the code crashes and the program no more executes'''\n",
    "a = 10/0\n",
    "print(a)"
   ]
  },
  {
   "cell_type": "code",
   "execution_count": 4,
   "id": "29df3585",
   "metadata": {},
   "outputs": [
    {
     "name": "stdout",
     "output_type": "stream",
     "text": [
      "division by zero\n"
     ]
    }
   ],
   "source": [
    "#Question 3\n",
    "'''try and except keywords are used most in exceptional handling'''\n",
    "try : \n",
    "    a = 10/0\n",
    "except Exception as e : \n",
    "    print(e)"
   ]
  },
  {
   "cell_type": "code",
   "execution_count": 5,
   "id": "b1e2eb79",
   "metadata": {},
   "outputs": [
    {
     "name": "stdout",
     "output_type": "stream",
     "text": [
      "division by zero\n"
     ]
    }
   ],
   "source": [
    "#Question 4:\n",
    "try : \n",
    "    a = 10/0\n",
    "except Exception as e: \n",
    "    print (e)"
   ]
  },
  {
   "cell_type": "code",
   "execution_count": 7,
   "id": "791a58b7",
   "metadata": {},
   "outputs": [],
   "source": [
    "try : \n",
    "    f = open(\"text3.txt\", 'w')\n",
    "    f.write(\"Hello This is Pradham\")\n",
    "except Exception as e: \n",
    "    print(e)\n",
    "else:\n",
    "    f.close()"
   ]
  },
  {
   "cell_type": "code",
   "execution_count": 10,
   "id": "37f994cf",
   "metadata": {},
   "outputs": [
    {
     "name": "stdout",
     "output_type": "stream",
     "text": [
      "enter your age-8\n",
      "The age is less than 0\n"
     ]
    }
   ],
   "source": [
    "class validateAge(Exception):\n",
    "    def __init__(self, msg) : \n",
    "        self.msg = msg\n",
    "def validate(age):\n",
    "    if age<0 :\n",
    "        raise validateAge(\"The age is less than 0\")\n",
    "    elif age > 100:\n",
    "        raise validateAge(\"The age is too much high\")\n",
    "        \n",
    "try : \n",
    "    age = input(\"enter your age\")\n",
    "    validate(int(age))\n",
    "except validateAge as e :\n",
    "    print (e)\n",
    "        "
   ]
  },
  {
   "cell_type": "code",
   "execution_count": 11,
   "id": "74c09ca4",
   "metadata": {},
   "outputs": [
    {
     "name": "stdout",
     "output_type": "stream",
     "text": [
      "enter your age105\n",
      "The age is too much high\n"
     ]
    }
   ],
   "source": [
    "#Question 5\n",
    "'''Custom Exception are the exception that are sytanctically correct and logically correct according to the machine but are not correct with respect to our use cases'''\n",
    "class validateAge(Exception):\n",
    "    def __init__(self, msg) : \n",
    "        self.msg = msg\n",
    "def validate(age):\n",
    "    if age<0 :\n",
    "        raise validateAge(\"The age is less than 0\")\n",
    "    elif age > 100:\n",
    "        raise validateAge(\"The age is too much high\")\n",
    "        \n",
    "try : \n",
    "    age = input(\"enter your age\")\n",
    "    validate(int(age))\n",
    "except validateAge as e :\n",
    "    print (e)\n",
    "        "
   ]
  },
  {
   "cell_type": "code",
   "execution_count": 12,
   "id": "23f539f3",
   "metadata": {},
   "outputs": [
    {
     "name": "stdout",
     "output_type": "stream",
     "text": [
      "enter your age-80\n",
      "The age is less than 0\n"
     ]
    }
   ],
   "source": [
    "#Question 6\n",
    "class validateAge(Exception):\n",
    "    def __init__(self, msg) : \n",
    "        self.msg = msg\n",
    "def validate(age):\n",
    "    if age<0 :\n",
    "        raise validateAge(\"The age is less than 0\")\n",
    "    elif age > 100:\n",
    "        raise validateAge(\"The age is too much high\")\n",
    "        \n",
    "try : \n",
    "    age = input(\"enter your age\")\n",
    "    validate(int(age))\n",
    "except validateAge as e :\n",
    "    print (e)"
   ]
  }
 ],
 "metadata": {
  "kernelspec": {
   "display_name": "Python 3 (ipykernel)",
   "language": "python",
   "name": "python3"
  },
  "language_info": {
   "codemirror_mode": {
    "name": "ipython",
    "version": 3
   },
   "file_extension": ".py",
   "mimetype": "text/x-python",
   "name": "python",
   "nbconvert_exporter": "python",
   "pygments_lexer": "ipython3",
   "version": "3.11.3"
  }
 },
 "nbformat": 4,
 "nbformat_minor": 5
}
